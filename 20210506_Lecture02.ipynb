{
 "cells": [
  {
   "cell_type": "markdown",
   "metadata": {},
   "source": [
    "## 2021.05.06. Python 2회차\n",
    "**중요**한 단어는 볼드체, 고유명사는 *이탤릭*으로 표시"
   ]
  },
  {
   "cell_type": "markdown",
   "metadata": {},
   "source": [
    "- 함수 만들기\n",
    "- 함수를 적용하는 여러 방식 (list를 전처리하는 여러 가지 방식들...)"
   ]
  },
  {
   "cell_type": "code",
   "execution_count": 4,
   "metadata": {},
   "outputs": [],
   "source": [
    "basic_numbers = [1,4,6,7,8]\n",
    "doubled_numbers = [] # [2,8,12,14,16]\n",
    "\n",
    "for num in basic_numbers :\n",
    "    doubled_numbers.append(num*2)"
   ]
  },
  {
   "cell_type": "code",
   "execution_count": 25,
   "metadata": {},
   "outputs": [],
   "source": [
    "def doubler(input_list) :\n",
    "    doubled_list = []\n",
    "\n",
    "    for val in input_list :\n",
    "        doubled_list.append(float(val)*2)\n",
    "        \n",
    "    return doubled_list"
   ]
  },
  {
   "cell_type": "code",
   "execution_count": 31,
   "metadata": {},
   "outputs": [],
   "source": [
    "def n_times(input_list, n) :\n",
    "    output_list = []\n",
    "\n",
    "    for val in input_list :\n",
    "        output_list.append(float(val)*n)\n",
    "        \n",
    "    return output_list"
   ]
  },
  {
   "cell_type": "code",
   "execution_count": 41,
   "metadata": {},
   "outputs": [
    {
     "data": {
      "text/plain": [
       "[5.0, 54.0, 1500.0]"
      ]
     },
     "execution_count": 41,
     "metadata": {},
     "output_type": "execute_result"
    }
   ],
   "source": [
    "n_times(n=5, input_list=[1,'10.8',300])"
   ]
  },
  {
   "cell_type": "code",
   "execution_count": 42,
   "metadata": {},
   "outputs": [
    {
     "data": {
      "text/plain": [
       "[5.0, 54.0, 1500.0]"
      ]
     },
     "execution_count": 42,
     "metadata": {},
     "output_type": "execute_result"
    }
   ],
   "source": [
    "n_times([1,'10.8',300], 5)"
   ]
  },
  {
   "cell_type": "markdown",
   "metadata": {},
   "source": [
    "- list comprehension\n",
    "- lambda (with **map**)\n",
    "- map(적용할 함수 이름, 적용 대상 list)"
   ]
  },
  {
   "cell_type": "code",
   "execution_count": 96,
   "metadata": {},
   "outputs": [],
   "source": [
    "region_list = ['마포구', '서대문구', '송파구', '영등포구']\n",
    "\n",
    "# 1. 빈 리스트 생성 + for문 + .append()\n",
    "center_list = []\n",
    "\n",
    "for gu in region_list :\n",
    "    center_list.append('서울시 ' + gu[0:-1] + ' 주민센터')\n",
    "\n",
    "# 2. list comprehension (위 1번을 좀 더 간결하게 쓰기)\n",
    "center_list = ['서울시 ' + gu[0:-1] + ' 주민센터' for gu in region_list]\n",
    "\n",
    "# 3. 함수를 만들어 적용하기\n",
    "def jumincenter(gu) :\n",
    "    output = '서울시 ' + gu[0:-1] + ' 주민센터'\n",
    "    return output\n",
    "\n",
    "center_list = [jumincenter(gu) for gu in region_list]\n",
    "\n",
    "# 4. 일회용 함수 lambda와 map을 조합해서 만들기\n",
    "center_list = list(map(lambda gu : '서울시 ' + gu[0:-1] + ' 주민센터', region_list))"
   ]
  },
  {
   "cell_type": "code",
   "execution_count": 80,
   "metadata": {},
   "outputs": [],
   "source": [
    "candidate_numbers = [2, 10, 5, 4, 7]\n",
    "determined_numbers = ['even', 'even', 'odd', 'even', 'odd']"
   ]
  },
  {
   "cell_type": "code",
   "execution_count": 81,
   "metadata": {},
   "outputs": [],
   "source": [
    "def odds_check(input_num_list) :\n",
    "    determined_numbers = []\n",
    "\n",
    "    for num in input_num_list :\n",
    "        if num%2==1 :\n",
    "            value = 'odd'\n",
    "        else :\n",
    "            value = 'even'\n",
    "        determined_numbers.append(value)\n",
    "    return determined_numbers\n",
    "\n",
    "['odd' if num%2==1 else 'even' for num in [2, 10, 5, 4, 7]]"
   ]
  },
  {
   "cell_type": "code",
   "execution_count": 97,
   "metadata": {},
   "outputs": [],
   "source": [
    "numbers_list = range(1,8) #[1,2,3,4,5,6,7] \n",
    "# numbers_list의 총합을 구하는 함수 (조건 : 연속된 수들)"
   ]
  },
  {
   "cell_type": "code",
   "execution_count": 126,
   "metadata": {},
   "outputs": [
    {
     "data": {
      "text/plain": [
       "50000005000000"
      ]
     },
     "execution_count": 126,
     "metadata": {},
     "output_type": "execute_result"
    }
   ],
   "source": [
    "def slow_sum(x,y) :\n",
    "    output = 0\n",
    "    for each in range(x, y+1) :\n",
    "        output = output + each\n",
    "    return output\n",
    "\n",
    "slow_sum(1,10000000)"
   ]
  },
  {
   "cell_type": "code",
   "execution_count": 128,
   "metadata": {},
   "outputs": [
    {
     "data": {
      "text/plain": [
       "50000005000000"
      ]
     },
     "execution_count": 128,
     "metadata": {},
     "output_type": "execute_result"
    }
   ],
   "source": [
    "def faster_sum(x,y) :\n",
    "    return int((x+y)*(y-x+1)/2)\n",
    "\n",
    "faster_sum(1,10000000)"
   ]
  },
  {
   "cell_type": "code",
   "execution_count": 100,
   "metadata": {},
   "outputs": [],
   "source": [
    "import time"
   ]
  },
  {
   "cell_type": "code",
   "execution_count": 139,
   "metadata": {},
   "outputs": [
    {
     "name": "stdout",
     "output_type": "stream",
     "text": [
      "6.59375 seconds\n"
     ]
    }
   ],
   "source": [
    "start_time = time.process_time()\n",
    "slow_sum(1,50000000)\n",
    "print(time.process_time() - start_time, \"seconds\")"
   ]
  },
  {
   "cell_type": "code",
   "execution_count": 140,
   "metadata": {},
   "outputs": [
    {
     "name": "stdout",
     "output_type": "stream",
     "text": [
      "0.0 seconds\n"
     ]
    }
   ],
   "source": [
    "start_time = time.process_time()\n",
    "faster_sum(1,50000000)\n",
    "print(time.process_time() - start_time, \"seconds\")"
   ]
  }
 ],
 "metadata": {
  "kernelspec": {
   "display_name": "Python 3",
   "language": "python",
   "name": "python3"
  },
  "language_info": {
   "codemirror_mode": {
    "name": "ipython",
    "version": 3
   },
   "file_extension": ".py",
   "mimetype": "text/x-python",
   "name": "python",
   "nbconvert_exporter": "python",
   "pygments_lexer": "ipython3",
   "version": "3.7.0"
  }
 },
 "nbformat": 4,
 "nbformat_minor": 4
}
