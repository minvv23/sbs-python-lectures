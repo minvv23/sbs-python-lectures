{
 "cells": [
  {
   "cell_type": "markdown",
   "metadata": {},
   "source": [
    "## 2021.05.20."
   ]
  },
  {
   "cell_type": "code",
   "execution_count": 31,
   "metadata": {},
   "outputs": [],
   "source": [
    "x = [[1,'a',3], ['a','b',7,'8','9','10'], ['c','d',0], ['a','b',7,8,9,10]]\n",
    "output = ['number', 'number', 'alphabet', 'number']"
   ]
  },
  {
   "cell_type": "code",
   "execution_count": 32,
   "metadata": {},
   "outputs": [],
   "source": [
    "def majority_voter(input_list) :\n",
    "    output_list = []\n",
    "    for sublist in input_list :    \n",
    "        counter_list = []\n",
    "        for val in sublist :\n",
    "            try :\n",
    "                int(val)\n",
    "                counter_list.append(1)\n",
    "            except :\n",
    "                counter_list.append(0)\n",
    "        if sum(counter_list)/len(counter_list)>0.5 :\n",
    "            output = 'number'\n",
    "        else :\n",
    "            output = 'alphabet'\n",
    "        output_list.append(output)\n",
    "    return output_list"
   ]
  },
  {
   "cell_type": "code",
   "execution_count": 33,
   "metadata": {},
   "outputs": [
    {
     "data": {
      "text/plain": [
       "['number', 'number', 'alphabet', 'number']"
      ]
     },
     "execution_count": 33,
     "metadata": {},
     "output_type": "execute_result"
    }
   ],
   "source": [
    "majority_voter(x)"
   ]
  },
  {
   "cell_type": "markdown",
   "metadata": {},
   "source": [
    "## 백준 10950번\n",
    "https://www.acmicpc.net/problem/10950"
   ]
  },
  {
   "cell_type": "code",
   "execution_count": 4,
   "metadata": {},
   "outputs": [
    {
     "name": "stdin",
     "output_type": "stream",
     "text": [
      " 3\n",
      " 1 9\n",
      " 3 23\n",
      " 0 235235\n"
     ]
    },
    {
     "name": "stdout",
     "output_type": "stream",
     "text": [
      "1\n",
      "3\n",
      "0\n"
     ]
    }
   ],
   "source": [
    "case_length = int(input())\n",
    "case_list = []\n",
    "\n",
    "for each_t in range(case_length) :\n",
    "    case_list.append(map(int, input().split()))\n",
    "\n",
    "for each_case in case_list :\n",
    "    print(min(each_case))"
   ]
  },
  {
   "cell_type": "markdown",
   "metadata": {},
   "source": [
    "### 1. Two Sum\n",
    "Given an array of integers, return indices of the two numbers such that they add up to a specific target.  \n",
    "You may assume that each input would have exactly one solution, and you may not use the same element twice.  \n",
    "\n",
    "Example:  \n",
    "Given nums = [2, 7, 11, 15], target = 9,  \n",
    "Because nums[0] + nums[1] = 2 + 7 = 9,  \n",
    "return [0, 1]."
   ]
  },
  {
   "cell_type": "code",
   "execution_count": 81,
   "metadata": {},
   "outputs": [],
   "source": [
    "def twosum_index_retriever(given_list, target) :\n",
    "    for i in range(len(given_list)) :\n",
    "        j = i\n",
    "        while j <= len(given_list)-2 :\n",
    "            j += 1\n",
    "            if given_list[i] + given_list[j] == target :\n",
    "                print([i, j])\n",
    "                break"
   ]
  },
  {
   "cell_type": "code",
   "execution_count": 84,
   "metadata": {},
   "outputs": [],
   "source": [
    "x = [2, 3, 5, 8, 19, 23, 100, 105]\n",
    "y = 5"
   ]
  },
  {
   "cell_type": "code",
   "execution_count": 85,
   "metadata": {},
   "outputs": [
    {
     "name": "stdout",
     "output_type": "stream",
     "text": [
      "[0, 1]\n"
     ]
    }
   ],
   "source": [
    "twosum_index_retriever(x, y)"
   ]
  },
  {
   "cell_type": "markdown",
   "metadata": {},
   "source": [
    "### 7. Reverse Integer\n",
    "Given a 32-bit signed integer, reverse digits of an integer.  \n",
    "\n",
    "Example 1:  \n",
    "Input: 123  \n",
    "Output: 321  \n",
    "\n",
    "Example 2:  \n",
    "Input: -123  \n",
    "Output: -321  \n",
    "\n",
    "Example 3:  \n",
    "Input: 120  \n",
    "Output: 21  \n",
    "\n",
    "Note:\n",
    "Assume we are dealing with an environment which could only store integers within the 32-bit signed integer range: $[−2^{31},  2^{31} − 1]$. For the purpose of this problem, assume that your function returns 0 when the reversed integer overflows."
   ]
  },
  {
   "cell_type": "code",
   "execution_count": 12,
   "metadata": {},
   "outputs": [],
   "source": [
    "def number_reverser(x) :\n",
    "    reversed_str = []\n",
    "    for i in range(1, len(str(x))+1) :\n",
    "        reversed_str.append(str(x)[-i])\n",
    "        \n",
    "    if ''.join(reversed_str)[-1] == '-' :\n",
    "        revnum = int('-'+''.join(reversed_str)[:-1])\n",
    "    else :\n",
    "        revnum = int(''.join(reversed_str))\n",
    "    return revnum"
   ]
  },
  {
   "cell_type": "markdown",
   "metadata": {},
   "source": [
    "### 9. Palindrome Number\n",
    "Determine whether an integer is a palindrome. An integer is a palindrome when it reads the same backward as forward.  \n",
    "\n",
    "Example 1:  \n",
    "Input: 121  \n",
    "Output: true  \n",
    "\n",
    "Example 2:  \n",
    "Input: -121  \n",
    "Output: false  \n",
    "Explanation: From left to right, it reads -121. From right to left, it becomes 121-. Therefore it is not a palindrome.\n",
    "\n",
    "Example 3:  \n",
    "Input: 10  \n",
    "Output: false  \n",
    "Explanation: Reads 01 from right to left. Therefore it is not a palindrome.  \n",
    "\n",
    "Follow up:  \n",
    "Coud you solve it without converting the integer to a string?"
   ]
  }
 ],
 "metadata": {
  "kernelspec": {
   "display_name": "Python 3",
   "language": "python",
   "name": "python3"
  },
  "language_info": {
   "codemirror_mode": {
    "name": "ipython",
    "version": 3
   },
   "file_extension": ".py",
   "mimetype": "text/x-python",
   "name": "python",
   "nbconvert_exporter": "python",
   "pygments_lexer": "ipython3",
   "version": "3.7.0"
  }
 },
 "nbformat": 4,
 "nbformat_minor": 4
}
