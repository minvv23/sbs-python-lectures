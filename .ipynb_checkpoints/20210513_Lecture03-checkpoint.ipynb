{
 "cells": [
  {
   "cell_type": "markdown",
   "metadata": {},
   "source": [
    "## 2021.05.13. Python 3회차"
   ]
  },
  {
   "cell_type": "markdown",
   "metadata": {},
   "source": [
    "**git clone** https://github.com/minvv23/sbs-python-lectures 을 시행하면 하위 디렉토리에  폴더 생성\n",
    "\n",
    "해당 폴더에서 다시 들어가서 **git pull**을 실행하면 추가로 업데이트된 파일이 다운로드 됨"
   ]
  },
  {
   "cell_type": "code",
   "execution_count": 1,
   "metadata": {},
   "outputs": [
    {
     "data": {
      "text/plain": [
       "[{'name': 'TaeYoung', 'major': 'sociology', 'age': 27},\n",
       " {'name': 'Giha', 'major': 'sociology', 'age': 34},\n",
       " {'name': 'Soonjae', 'major': 'philosophy', 'age': 86},\n",
       " {'name': 'Jieun', 'major': 'music', 'age': 29}]"
      ]
     },
     "execution_count": 1,
     "metadata": {},
     "output_type": "execute_result"
    }
   ],
   "source": [
    "kty_dict = {'name':'TaeYoung', 'major':'sociology', 'age':27}\n",
    "jgh_dict = {'name':'Giha', 'major':'sociology', 'age':34}\n",
    "lsj_dict = {'name':'Soonjae', 'major':'philosophy', 'age':86}\n",
    "iu_dict = {'name':'Jieun', 'major':'music', 'age':29}\n",
    "\n",
    "bio_list = [kty_dict, jgh_dict, lsj_dict, iu_dict]\n",
    "bio_list"
   ]
  },
  {
   "cell_type": "code",
   "execution_count": 2,
   "metadata": {},
   "outputs": [],
   "source": [
    "import numpy as np # 수치 연산\n",
    "import pandas as pd # 데이터 전처리\n",
    "import matplotlib.pyplot as plt # 시각화(ggplot)\n",
    "import seaborn as sns # 시각화(고오-급 ggplot)\n",
    "import statsmodels.api as sm # 통계분석용 패키지 (회귀분석, 패널분석, t-test)"
   ]
  },
  {
   "cell_type": "code",
   "execution_count": 3,
   "metadata": {},
   "outputs": [],
   "source": [
    "bio_df = pd.DataFrame(bio_list)"
   ]
  },
  {
   "cell_type": "code",
   "execution_count": 4,
   "metadata": {},
   "outputs": [
    {
     "data": {
      "text/plain": [
       "0    TaeYoung\n",
       "1        Giha\n",
       "2     Soonjae\n",
       "3       Jieun\n",
       "Name: name, dtype: object"
      ]
     },
     "execution_count": 4,
     "metadata": {},
     "output_type": "execute_result"
    }
   ],
   "source": [
    "bio_df['name']"
   ]
  },
  {
   "cell_type": "code",
   "execution_count": 5,
   "metadata": {},
   "outputs": [
    {
     "data": {
      "text/plain": [
       "Index(['name', 'major', 'age'], dtype='object')"
      ]
     },
     "execution_count": 5,
     "metadata": {},
     "output_type": "execute_result"
    }
   ],
   "source": [
    "bio_df.columns"
   ]
  },
  {
   "cell_type": "code",
   "execution_count": 6,
   "metadata": {},
   "outputs": [
    {
     "data": {
      "text/plain": [
       "count     4.000000\n",
       "mean     44.000000\n",
       "std      28.154337\n",
       "min      27.000000\n",
       "25%      28.500000\n",
       "50%      31.500000\n",
       "75%      47.000000\n",
       "max      86.000000\n",
       "Name: age, dtype: float64"
      ]
     },
     "execution_count": 6,
     "metadata": {},
     "output_type": "execute_result"
    }
   ],
   "source": [
    "bio_df['age'].describe()"
   ]
  },
  {
   "cell_type": "code",
   "execution_count": 7,
   "metadata": {},
   "outputs": [
    {
     "data": {
      "text/html": [
       "<div>\n",
       "<style scoped>\n",
       "    .dataframe tbody tr th:only-of-type {\n",
       "        vertical-align: middle;\n",
       "    }\n",
       "\n",
       "    .dataframe tbody tr th {\n",
       "        vertical-align: top;\n",
       "    }\n",
       "\n",
       "    .dataframe thead th {\n",
       "        text-align: right;\n",
       "    }\n",
       "</style>\n",
       "<table border=\"1\" class=\"dataframe\">\n",
       "  <thead>\n",
       "    <tr style=\"text-align: right;\">\n",
       "      <th></th>\n",
       "      <th>major</th>\n",
       "      <th>age</th>\n",
       "    </tr>\n",
       "  </thead>\n",
       "  <tbody>\n",
       "    <tr>\n",
       "      <th>1</th>\n",
       "      <td>sociology</td>\n",
       "      <td>34</td>\n",
       "    </tr>\n",
       "    <tr>\n",
       "      <th>2</th>\n",
       "      <td>philosophy</td>\n",
       "      <td>86</td>\n",
       "    </tr>\n",
       "    <tr>\n",
       "      <th>3</th>\n",
       "      <td>music</td>\n",
       "      <td>29</td>\n",
       "    </tr>\n",
       "  </tbody>\n",
       "</table>\n",
       "</div>"
      ],
      "text/plain": [
       "        major  age\n",
       "1   sociology   34\n",
       "2  philosophy   86\n",
       "3       music   29"
      ]
     },
     "execution_count": 7,
     "metadata": {},
     "output_type": "execute_result"
    }
   ],
   "source": [
    "bio_df.iloc[1:, 1:] #iloc index 안에서 콤마(,) 앞에가 행(row), 뒤에가 열(column)"
   ]
  },
  {
   "cell_type": "code",
   "execution_count": 8,
   "metadata": {},
   "outputs": [
    {
     "data": {
      "text/html": [
       "<div>\n",
       "<style scoped>\n",
       "    .dataframe tbody tr th:only-of-type {\n",
       "        vertical-align: middle;\n",
       "    }\n",
       "\n",
       "    .dataframe tbody tr th {\n",
       "        vertical-align: top;\n",
       "    }\n",
       "\n",
       "    .dataframe thead th {\n",
       "        text-align: right;\n",
       "    }\n",
       "</style>\n",
       "<table border=\"1\" class=\"dataframe\">\n",
       "  <thead>\n",
       "    <tr style=\"text-align: right;\">\n",
       "      <th></th>\n",
       "      <th>name</th>\n",
       "      <th>major</th>\n",
       "      <th>age</th>\n",
       "    </tr>\n",
       "  </thead>\n",
       "  <tbody>\n",
       "    <tr>\n",
       "      <th>1</th>\n",
       "      <td>Giha</td>\n",
       "      <td>sociology</td>\n",
       "      <td>34</td>\n",
       "    </tr>\n",
       "    <tr>\n",
       "      <th>2</th>\n",
       "      <td>Soonjae</td>\n",
       "      <td>philosophy</td>\n",
       "      <td>86</td>\n",
       "    </tr>\n",
       "    <tr>\n",
       "      <th>3</th>\n",
       "      <td>Jieun</td>\n",
       "      <td>music</td>\n",
       "      <td>29</td>\n",
       "    </tr>\n",
       "  </tbody>\n",
       "</table>\n",
       "</div>"
      ],
      "text/plain": [
       "      name       major  age\n",
       "1     Giha   sociology   34\n",
       "2  Soonjae  philosophy   86\n",
       "3    Jieun       music   29"
      ]
     },
     "execution_count": 8,
     "metadata": {},
     "output_type": "execute_result"
    }
   ],
   "source": [
    "bio_df.iloc[1:] #iloc index 안에서 하나만 넣으면 행(row)으로 받음"
   ]
  },
  {
   "cell_type": "code",
   "execution_count": 9,
   "metadata": {},
   "outputs": [
    {
     "data": {
      "text/html": [
       "<div>\n",
       "<style scoped>\n",
       "    .dataframe tbody tr th:only-of-type {\n",
       "        vertical-align: middle;\n",
       "    }\n",
       "\n",
       "    .dataframe tbody tr th {\n",
       "        vertical-align: top;\n",
       "    }\n",
       "\n",
       "    .dataframe thead th {\n",
       "        text-align: right;\n",
       "    }\n",
       "</style>\n",
       "<table border=\"1\" class=\"dataframe\">\n",
       "  <thead>\n",
       "    <tr style=\"text-align: right;\">\n",
       "      <th></th>\n",
       "      <th>name</th>\n",
       "      <th>major</th>\n",
       "      <th>age</th>\n",
       "    </tr>\n",
       "  </thead>\n",
       "  <tbody>\n",
       "    <tr>\n",
       "      <th>0</th>\n",
       "      <td>TaeYoung</td>\n",
       "      <td>sociology</td>\n",
       "      <td>27</td>\n",
       "    </tr>\n",
       "    <tr>\n",
       "      <th>1</th>\n",
       "      <td>Giha</td>\n",
       "      <td>sociology</td>\n",
       "      <td>34</td>\n",
       "    </tr>\n",
       "  </tbody>\n",
       "</table>\n",
       "</div>"
      ],
      "text/plain": [
       "       name      major  age\n",
       "0  TaeYoung  sociology   27\n",
       "1      Giha  sociology   34"
      ]
     },
     "execution_count": 9,
     "metadata": {},
     "output_type": "execute_result"
    }
   ],
   "source": [
    "bio_df[bio_df['major']=='sociology']"
   ]
  },
  {
   "cell_type": "code",
   "execution_count": 10,
   "metadata": {},
   "outputs": [
    {
     "data": {
      "text/html": [
       "<div>\n",
       "<style scoped>\n",
       "    .dataframe tbody tr th:only-of-type {\n",
       "        vertical-align: middle;\n",
       "    }\n",
       "\n",
       "    .dataframe tbody tr th {\n",
       "        vertical-align: top;\n",
       "    }\n",
       "\n",
       "    .dataframe thead th {\n",
       "        text-align: right;\n",
       "    }\n",
       "</style>\n",
       "<table border=\"1\" class=\"dataframe\">\n",
       "  <thead>\n",
       "    <tr style=\"text-align: right;\">\n",
       "      <th></th>\n",
       "      <th>name</th>\n",
       "      <th>major</th>\n",
       "      <th>age</th>\n",
       "    </tr>\n",
       "  </thead>\n",
       "  <tbody>\n",
       "    <tr>\n",
       "      <th>0</th>\n",
       "      <td>TaeYoung</td>\n",
       "      <td>sociology</td>\n",
       "      <td>27</td>\n",
       "    </tr>\n",
       "    <tr>\n",
       "      <th>3</th>\n",
       "      <td>Jieun</td>\n",
       "      <td>music</td>\n",
       "      <td>29</td>\n",
       "    </tr>\n",
       "  </tbody>\n",
       "</table>\n",
       "</div>"
      ],
      "text/plain": [
       "       name      major  age\n",
       "0  TaeYoung  sociology   27\n",
       "3     Jieun      music   29"
      ]
     },
     "execution_count": 10,
     "metadata": {},
     "output_type": "execute_result"
    }
   ],
   "source": [
    "bio_df[bio_df['age']<30]"
   ]
  },
  {
   "cell_type": "code",
   "execution_count": 11,
   "metadata": {},
   "outputs": [],
   "source": [
    "bio_df['birth_year'] = 2021 - bio_df['age'] +1"
   ]
  },
  {
   "cell_type": "code",
   "execution_count": 12,
   "metadata": {},
   "outputs": [
    {
     "data": {
      "text/plain": [
       "4"
      ]
     },
     "execution_count": 12,
     "metadata": {},
     "output_type": "execute_result"
    }
   ],
   "source": [
    "len(bio_df['name'])"
   ]
  },
  {
   "cell_type": "code",
   "execution_count": 13,
   "metadata": {},
   "outputs": [
    {
     "data": {
      "text/plain": [
       "0    8\n",
       "1    4\n",
       "2    7\n",
       "3    5\n",
       "Name: name, dtype: int64"
      ]
     },
     "execution_count": 13,
     "metadata": {},
     "output_type": "execute_result"
    }
   ],
   "source": [
    "bio_df['name'].str.len()"
   ]
  },
  {
   "cell_type": "code",
   "execution_count": 14,
   "metadata": {},
   "outputs": [],
   "source": [
    "bio_df['name_length'] = bio_df['name'].str.len()"
   ]
  },
  {
   "cell_type": "code",
   "execution_count": 27,
   "metadata": {},
   "outputs": [
    {
     "data": {
      "text/html": [
       "<div>\n",
       "<style scoped>\n",
       "    .dataframe tbody tr th:only-of-type {\n",
       "        vertical-align: middle;\n",
       "    }\n",
       "\n",
       "    .dataframe tbody tr th {\n",
       "        vertical-align: top;\n",
       "    }\n",
       "\n",
       "    .dataframe thead th {\n",
       "        text-align: right;\n",
       "    }\n",
       "</style>\n",
       "<table border=\"1\" class=\"dataframe\">\n",
       "  <thead>\n",
       "    <tr style=\"text-align: right;\">\n",
       "      <th></th>\n",
       "      <th>name</th>\n",
       "      <th>age</th>\n",
       "      <th>birth_year</th>\n",
       "    </tr>\n",
       "  </thead>\n",
       "  <tbody>\n",
       "    <tr>\n",
       "      <th>0</th>\n",
       "      <td>TaeYoung</td>\n",
       "      <td>27</td>\n",
       "      <td>1995</td>\n",
       "    </tr>\n",
       "    <tr>\n",
       "      <th>1</th>\n",
       "      <td>Giha</td>\n",
       "      <td>34</td>\n",
       "      <td>1988</td>\n",
       "    </tr>\n",
       "    <tr>\n",
       "      <th>2</th>\n",
       "      <td>Soonjae</td>\n",
       "      <td>86</td>\n",
       "      <td>1936</td>\n",
       "    </tr>\n",
       "    <tr>\n",
       "      <th>3</th>\n",
       "      <td>Jieun</td>\n",
       "      <td>29</td>\n",
       "      <td>1993</td>\n",
       "    </tr>\n",
       "  </tbody>\n",
       "</table>\n",
       "</div>"
      ],
      "text/plain": [
       "       name  age  birth_year\n",
       "0  TaeYoung   27        1995\n",
       "1      Giha   34        1988\n",
       "2   Soonjae   86        1936\n",
       "3     Jieun   29        1993"
      ]
     },
     "execution_count": 27,
     "metadata": {},
     "output_type": "execute_result"
    }
   ],
   "source": [
    "bio_df[['name','age','birth_year']]"
   ]
  },
  {
   "cell_type": "code",
   "execution_count": 17,
   "metadata": {},
   "outputs": [],
   "source": [
    "bio_df.to_csv('./data/bio_df.csv')\n",
    "#bio_df.to_excel('./data/bio_df.xlsx')"
   ]
  },
  {
   "cell_type": "code",
   "execution_count": 21,
   "metadata": {},
   "outputs": [
    {
     "data": {
      "text/plain": [
       "'C:\\\\Users\\\\Hunnae\\\\Desktop\\\\헌내의 활동\\\\대회 · 과제 정리\\\\2021 SBS 파이썬(Python) 강의'"
      ]
     },
     "execution_count": 21,
     "metadata": {},
     "output_type": "execute_result"
    }
   ],
   "source": [
    "import os\n",
    "os.getcwd() #get current working directory"
   ]
  },
  {
   "cell_type": "code",
   "execution_count": 25,
   "metadata": {},
   "outputs": [
    {
     "name": "stdout",
     "output_type": "stream",
     "text": [
      " C 드라이브의 볼륨에는 이름이 없습니다.\n",
      " 볼륨 일련 번호: D888-7CAA\n",
      "\n",
      " C:\\Users\\Hunnae\\Desktop\\헌내의 활동\\대회 · 과제 정리\\2021 SBS 파이썬(Python) 강의 디렉터리\n",
      "\n",
      "2021-05-13  오후 12:26    <DIR>          .\n",
      "2021-05-13  오후 12:26    <DIR>          ..\n",
      "2021-05-13  오전 11:57    <DIR>          .ipynb_checkpoints\n",
      "2021-05-06  오후 01:08            21,491 20210428_Week01-03.ipynb\n",
      "2021-05-06  오후 12:28             7,899 20210429_Lecture01.ipynb\n",
      "2021-05-06  오후 01:31             6,448 20210506_Lecture02.ipynb\n",
      "2021-05-13  오후 12:26            13,311 20210513_Lecture03.ipynb\n",
      "2021-05-13  오후 12:22               157 bio_df.csv\n",
      "2021-05-13  오후 12:22    <DIR>          data\n",
      "2021-05-06  오후 01:31                46 README.md\n",
      "               6개 파일              49,352 바이트\n",
      "               4개 디렉터리  59,418,370,048 바이트 남음\n"
     ]
    }
   ],
   "source": [
    "!dir #Mac이나 Linux에서는 ls"
   ]
  },
  {
   "cell_type": "code",
   "execution_count": 33,
   "metadata": {},
   "outputs": [
    {
     "data": {
      "text/html": [
       "<div>\n",
       "<style scoped>\n",
       "    .dataframe tbody tr th:only-of-type {\n",
       "        vertical-align: middle;\n",
       "    }\n",
       "\n",
       "    .dataframe tbody tr th {\n",
       "        vertical-align: top;\n",
       "    }\n",
       "\n",
       "    .dataframe thead th {\n",
       "        text-align: right;\n",
       "    }\n",
       "</style>\n",
       "<table border=\"1\" class=\"dataframe\">\n",
       "  <thead>\n",
       "    <tr style=\"text-align: right;\">\n",
       "      <th></th>\n",
       "      <th>name</th>\n",
       "      <th>major</th>\n",
       "      <th>age</th>\n",
       "      <th>birth_year</th>\n",
       "      <th>name_length</th>\n",
       "    </tr>\n",
       "  </thead>\n",
       "  <tbody>\n",
       "    <tr>\n",
       "      <th>0</th>\n",
       "      <td>TaeYoung</td>\n",
       "      <td>sociology</td>\n",
       "      <td>27</td>\n",
       "      <td>1995</td>\n",
       "      <td>8</td>\n",
       "    </tr>\n",
       "    <tr>\n",
       "      <th>1</th>\n",
       "      <td>Giha</td>\n",
       "      <td>sociology</td>\n",
       "      <td>34</td>\n",
       "      <td>1988</td>\n",
       "      <td>4</td>\n",
       "    </tr>\n",
       "    <tr>\n",
       "      <th>2</th>\n",
       "      <td>Soonjae</td>\n",
       "      <td>philosophy</td>\n",
       "      <td>86</td>\n",
       "      <td>1936</td>\n",
       "      <td>7</td>\n",
       "    </tr>\n",
       "    <tr>\n",
       "      <th>3</th>\n",
       "      <td>Jieun</td>\n",
       "      <td>music</td>\n",
       "      <td>29</td>\n",
       "      <td>1993</td>\n",
       "      <td>5</td>\n",
       "    </tr>\n",
       "  </tbody>\n",
       "</table>\n",
       "</div>"
      ],
      "text/plain": [
       "       name       major  age  birth_year  name_length\n",
       "0  TaeYoung   sociology   27        1995            8\n",
       "1      Giha   sociology   34        1988            4\n",
       "2   Soonjae  philosophy   86        1936            7\n",
       "3     Jieun       music   29        1993            5"
      ]
     },
     "execution_count": 33,
     "metadata": {},
     "output_type": "execute_result"
    }
   ],
   "source": [
    "pd.read_csv('./data/bio_df.csv', index_col=0)"
   ]
  },
  {
   "cell_type": "code",
   "execution_count": 44,
   "metadata": {},
   "outputs": [],
   "source": [
    "cardnewsdf = pd.read_excel('./data/underscore_df.xlsx', index_col=0)\n",
    "cardnewsdf['date'] = pd.to_datetime(cardnewsdf['date'], format='%Y%m%d')"
   ]
  },
  {
   "cell_type": "markdown",
   "metadata": {},
   "source": [
    "20180928 '%Y%m%d'  \n",
    "180928 '%y%m%d'  \n",
    "28092018 '%d%m%Y'  "
   ]
  },
  {
   "cell_type": "code",
   "execution_count": 51,
   "metadata": {},
   "outputs": [
    {
     "data": {
      "text/plain": [
       "0    16\n",
       "1    22\n",
       "2    13\n",
       "3    25\n",
       "4    29\n",
       "5    21\n",
       "Name: title, dtype: int64"
      ]
     },
     "execution_count": 51,
     "metadata": {},
     "output_type": "execute_result"
    }
   ],
   "source": [
    "cardnewsdf['title'].str.len()"
   ]
  },
  {
   "cell_type": "code",
   "execution_count": 53,
   "metadata": {},
   "outputs": [
    {
     "data": {
      "text/plain": [
       "0    9\n",
       "1    9\n",
       "2    9\n",
       "3    8\n",
       "4    8\n",
       "5    8\n",
       "Name: date, dtype: int64"
      ]
     },
     "execution_count": 53,
     "metadata": {},
     "output_type": "execute_result"
    }
   ],
   "source": [
    "cardnewsdf['date'].dt.month"
   ]
  },
  {
   "cell_type": "code",
   "execution_count": 60,
   "metadata": {},
   "outputs": [
    {
     "data": {
      "text/plain": [
       "1"
      ]
     },
     "execution_count": 60,
     "metadata": {},
     "output_type": "execute_result"
    }
   ],
   "source": [
    "len(cardnewsdf['keywords'][0].split(' / '))"
   ]
  },
  {
   "cell_type": "code",
   "execution_count": 68,
   "metadata": {},
   "outputs": [
    {
     "data": {
      "text/plain": [
       "0         [사회학]\n",
       "1    [미디어, 심리학]\n",
       "2         [사회학]\n",
       "3         [사회학]\n",
       "4         [심리학]\n",
       "5         [심리학]\n",
       "Name: keywords, dtype: object"
      ]
     },
     "execution_count": 68,
     "metadata": {},
     "output_type": "execute_result"
    }
   ],
   "source": [
    "cardnewsdf['keywords'].str.split(' / ')"
   ]
  },
  {
   "cell_type": "code",
   "execution_count": 70,
   "metadata": {},
   "outputs": [
    {
     "data": {
      "text/plain": [
       "0    1\n",
       "1    2\n",
       "2    1\n",
       "3    1\n",
       "4    1\n",
       "5    1\n",
       "Name: keywords, dtype: int64"
      ]
     },
     "execution_count": 70,
     "metadata": {},
     "output_type": "execute_result"
    }
   ],
   "source": [
    "cardnewsdf['keywords'].str.split(' / ').str.len()"
   ]
  },
  {
   "cell_type": "code",
   "execution_count": 78,
   "metadata": {},
   "outputs": [],
   "source": [
    "cardnewsdf['howmanykeywords'] = cardnewsdf['keywords'].str.split(' / ').str.len()\n",
    "cardnewsdf['most_important_keyword'] = cardnewsdf['keywords'].str.split(' / ').str[0]"
   ]
  },
  {
   "cell_type": "code",
   "execution_count": 88,
   "metadata": {},
   "outputs": [
    {
     "data": {
      "text/plain": [
       "0     istrollingcontagious\n",
       "1                 politaku\n",
       "2           genderindanger\n",
       "3     goodhigschoolanduniv\n",
       "4    hotweatherkillspeople\n",
       "5    arenoobsmoreconfident\n",
       "Name: id, dtype: object"
      ]
     },
     "execution_count": 88,
     "metadata": {},
     "output_type": "execute_result"
    }
   ],
   "source": [
    "cardnewsdf['id'] = cardnewsdf['url'].str.split('/').str[-2]\n",
    "cardnewsdf['id']"
   ]
  },
  {
   "cell_type": "markdown",
   "metadata": {},
   "source": [
    "-----------------------------------"
   ]
  },
  {
   "cell_type": "code",
   "execution_count": 111,
   "metadata": {},
   "outputs": [],
   "source": [
    "input_list = ['1', '2', '3', 'a', 'b', None, '4']\n",
    "output = [1, 2, 3, 'alphabet', 'alphabet', 'empty', 4]"
   ]
  },
  {
   "cell_type": "code",
   "execution_count": 127,
   "metadata": {},
   "outputs": [
    {
     "name": "stdout",
     "output_type": "stream",
     "text": [
      "I can't!!!!\n"
     ]
    }
   ],
   "source": [
    "input_value = '안녕하세요'\n",
    "\n",
    "try :\n",
    "    print(input_value/3)\n",
    "except:\n",
    "    print(\"I can't!!!!\")"
   ]
  },
  {
   "cell_type": "code",
   "execution_count": 146,
   "metadata": {},
   "outputs": [
    {
     "name": "stdout",
     "output_type": "stream",
     "text": [
      "alphabet\n"
     ]
    }
   ],
   "source": [
    "input_value = 'asdfasdf'\n",
    "\n",
    "try :\n",
    "    print(int(input_value))\n",
    "except ValueError :\n",
    "    print('alphabet')\n",
    "except TypeError :\n",
    "    print('empty')"
   ]
  },
  {
   "cell_type": "code",
   "execution_count": 159,
   "metadata": {},
   "outputs": [],
   "source": [
    "final_list = []\n",
    "for val in input_list :\n",
    "    try :\n",
    "        output = int(val)\n",
    "    except ValueError :\n",
    "        output = 'alphabet'\n",
    "    except TypeError :\n",
    "        output = 'empty'\n",
    "final_list.append(output)"
   ]
  },
  {
   "cell_type": "code",
   "execution_count": 160,
   "metadata": {},
   "outputs": [
    {
     "data": {
      "text/plain": [
       "[4]"
      ]
     },
     "execution_count": 160,
     "metadata": {},
     "output_type": "execute_result"
    }
   ],
   "source": [
    "final_list"
   ]
  },
  {
   "cell_type": "code",
   "execution_count": 21,
   "metadata": {},
   "outputs": [],
   "source": [
    "def wrong_int_converter_01(input_list) :\n",
    "    output = []\n",
    "    for i in input_list :\n",
    "        if type(i)==int :\n",
    "            output.append(int(i))\n",
    "        elif type(i)==str :\n",
    "            output.append('alphabet')\n",
    "        else :\n",
    "            output.append('empty')\n",
    "    return output"
   ]
  },
  {
   "cell_type": "code",
   "execution_count": 22,
   "metadata": {},
   "outputs": [],
   "source": [
    "def wrong_int_converter_02(input_list) :\n",
    "    output = []\n",
    "    for i in input_list :\n",
    "        if i.isdigit()==True :\n",
    "            output.append(int(i))\n",
    "        elif i.isalpha()==True :\n",
    "            output.append('alphabet')\n",
    "        else :\n",
    "            output.append('empty')\n",
    "    return output"
   ]
  },
  {
   "cell_type": "code",
   "execution_count": 42,
   "metadata": {},
   "outputs": [],
   "source": [
    "def basic_int_converter_01(input_list) :\n",
    "    output = []\n",
    "    for i in input_list :\n",
    "        try :\n",
    "            output.append(int(i))\n",
    "        except TypeError:\n",
    "            output.append('alphabet')           \n",
    "            pass\n",
    "    return output"
   ]
  },
  {
   "cell_type": "code",
   "execution_count": 66,
   "metadata": {},
   "outputs": [],
   "source": [
    "def basic_int_converter_02(input_list) :\n",
    "    output = []\n",
    "    for i in input_list :\n",
    "        try :\n",
    "            output.append(int(i))\n",
    "        except :\n",
    "            try :\n",
    "                i.isalpha()\n",
    "                output.append('alphabet')\n",
    "            except :\n",
    "                output.append('empty')\n",
    "                pass\n",
    "            pass\n",
    "    return output"
   ]
  },
  {
   "cell_type": "code",
   "execution_count": 70,
   "metadata": {},
   "outputs": [],
   "source": [
    "def basic_int_converter_03(input_list) :\n",
    "    output = []\n",
    "    for i in input_list :\n",
    "        try :\n",
    "            output.append(int(i))\n",
    "        except ValueError :\n",
    "            output.append('alphabet')           \n",
    "        except TypeError :\n",
    "            output.append('empty')      \n",
    "            pass\n",
    "    return output"
   ]
  }
 ],
 "metadata": {
  "kernelspec": {
   "display_name": "Python 3",
   "language": "python",
   "name": "python3"
  },
  "language_info": {
   "codemirror_mode": {
    "name": "ipython",
    "version": 3
   },
   "file_extension": ".py",
   "mimetype": "text/x-python",
   "name": "python",
   "nbconvert_exporter": "python",
   "pygments_lexer": "ipython3",
   "version": "3.7.0"
  }
 },
 "nbformat": 4,
 "nbformat_minor": 4
}
