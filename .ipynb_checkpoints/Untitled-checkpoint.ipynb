{
 "cells": [
  {
   "cell_type": "code",
   "execution_count": 7,
   "metadata": {},
   "outputs": [],
   "source": [
    "def str_palindrome_detector(x) :\n",
    "    x_str = str(x)\n",
    "    output_list = []\n",
    "    for index in range(len(x_str)) :\n",
    "        if x_str[index]==x_str[-(index+1)] :\n",
    "            output = True\n",
    "        else :\n",
    "            output = False\n",
    "        output_list.append(output)\n",
    "    return print(all(output_list))"
   ]
  },
  {
   "cell_type": "code",
   "execution_count": 8,
   "metadata": {},
   "outputs": [
    {
     "name": "stdout",
     "output_type": "stream",
     "text": [
      "True\n",
      "False\n",
      "False\n",
      "False\n",
      "True\n"
     ]
    }
   ],
   "source": [
    "str_palindrome_detector(12321)\n",
    "str_palindrome_detector(12331)\n",
    "str_palindrome_detector(-1234321)\n",
    "str_palindrome_detector(10)\n",
    "str_palindrome_detector(3)"
   ]
  },
  {
   "cell_type": "code",
   "execution_count": 9,
   "metadata": {},
   "outputs": [],
   "source": [
    "def lenDigits(x): \n",
    "    if x < 10:\n",
    "        return 1\n",
    "    return 1 + lenDigits(x / 10)"
   ]
  },
  {
   "cell_type": "code",
   "execution_count": 10,
   "metadata": {},
   "outputs": [],
   "source": [
    "def palindrome_detector(x) :\n",
    "    x_length = lenDigits(x)\n",
    "    if x<0 :\n",
    "        print(False)\n",
    "    elif x<10 :\n",
    "        print(True)\n",
    "    else:\n",
    "        listed_x = [int(x/(10**(x_length-i)))%10 for i in range(1, x_length+1)]\n",
    "        if len([i for i in range(0, len(listed_x)//2) if listed_x[i] != listed_x[-(i+1)]])==0 :\n",
    "            print(True)\n",
    "        else :\n",
    "            print(False)"
   ]
  },
  {
   "cell_type": "code",
   "execution_count": 11,
   "metadata": {},
   "outputs": [
    {
     "name": "stdout",
     "output_type": "stream",
     "text": [
      "True\n",
      "False\n",
      "False\n",
      "False\n",
      "True\n"
     ]
    }
   ],
   "source": [
    "palindrome_detector(12321)\n",
    "palindrome_detector(12331)\n",
    "palindrome_detector(-1234321)\n",
    "palindrome_detector(10)\n",
    "palindrome_detector(3)"
   ]
  }
 ],
 "metadata": {
  "kernelspec": {
   "display_name": "Python 3",
   "language": "python",
   "name": "python3"
  },
  "language_info": {
   "codemirror_mode": {
    "name": "ipython",
    "version": 3
   },
   "file_extension": ".py",
   "mimetype": "text/x-python",
   "name": "python",
   "nbconvert_exporter": "python",
   "pygments_lexer": "ipython3",
   "version": "3.7.0"
  }
 },
 "nbformat": 4,
 "nbformat_minor": 4
}
