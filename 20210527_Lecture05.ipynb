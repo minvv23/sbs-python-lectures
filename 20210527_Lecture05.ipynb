{
 "cells": [
  {
   "cell_type": "code",
   "execution_count": 1,
   "metadata": {},
   "outputs": [],
   "source": [
    "def str_palindrome_detector(x) :\n",
    "    x_str = str(x)\n",
    "    output_list = []\n",
    "    for index in range(len(x_str)) :\n",
    "        if x_str[index]==x_str[-(index+1)] :\n",
    "            output = True\n",
    "        else :\n",
    "            output = False\n",
    "        output_list.append(output)\n",
    "    return print(all(output_list))"
   ]
  },
  {
   "cell_type": "code",
   "execution_count": 2,
   "metadata": {},
   "outputs": [
    {
     "name": "stdout",
     "output_type": "stream",
     "text": [
      "True\n",
      "False\n",
      "False\n",
      "False\n",
      "True\n"
     ]
    }
   ],
   "source": [
    "str_palindrome_detector(12321)\n",
    "str_palindrome_detector(12331)\n",
    "str_palindrome_detector(-1234321)\n",
    "str_palindrome_detector(10)\n",
    "str_palindrome_detector(3)"
   ]
  },
  {
   "cell_type": "code",
   "execution_count": 3,
   "metadata": {},
   "outputs": [],
   "source": [
    "def lenDigits(x): \n",
    "    if x < 10:\n",
    "        return 1\n",
    "    return 1 + lenDigits(x / 10)"
   ]
  },
  {
   "cell_type": "code",
   "execution_count": 4,
   "metadata": {},
   "outputs": [],
   "source": [
    "def palindrome_detector(x) :\n",
    "    x_length = lenDigits(x)\n",
    "    if x<0 :\n",
    "        print(False)\n",
    "    elif x<10 :\n",
    "        print(True)\n",
    "    else:\n",
    "        listed_x = [int(x/(10**(x_length-i)))%10 for i in range(1, x_length+1)]\n",
    "        if len([i for i in range(0, len(listed_x)//2) if listed_x[i] != listed_x[-(i+1)]])==0 :\n",
    "            print(True)\n",
    "        else :\n",
    "            print(False)"
   ]
  },
  {
   "cell_type": "code",
   "execution_count": 5,
   "metadata": {},
   "outputs": [
    {
     "name": "stdout",
     "output_type": "stream",
     "text": [
      "True\n",
      "False\n",
      "False\n",
      "False\n",
      "True\n"
     ]
    }
   ],
   "source": [
    "palindrome_detector(12321)\n",
    "palindrome_detector(12331)\n",
    "palindrome_detector(-1234321)\n",
    "palindrome_detector(10)\n",
    "palindrome_detector(3)"
   ]
  },
  {
   "cell_type": "code",
   "execution_count": 6,
   "metadata": {},
   "outputs": [],
   "source": [
    "from bs4 import BeautifulSoup\n",
    "from datetime import date, datetime, timedelta\n",
    "import sys, os, glob\n",
    "import requests, urllib.request, urllib.parse\n",
    "import numpy as np, pandas as pd\n",
    "import json\n",
    "import time\n",
    "from tqdm import tqdm\n",
    "from itertools import chain\n",
    "from collections import Counter\n",
    "from myfunctions import url_to_soup\n",
    "\n",
    "basic_header = {\"User-Agent\":\"Mozilla/5.0 (Macintosh; Intel Mac OS X 10_9_5)\\AppleWebKit 537.36 (KHTML, like Gecko) Chrome\",\n",
    "                \"Accept\":\"text/html,application/xhtml+xml,application/xml;\\q=0.9,imgwebp,*/*;q=0.8\"}"
   ]
  },
  {
   "cell_type": "code",
   "execution_count": 34,
   "metadata": {},
   "outputs": [],
   "source": [
    "soup = url_to_soup('http://underscore.kr/')\n",
    "#태그 안에 있는거 긁어올 때 ['key']\n",
    "#태그 밖에 있는 다음 태그 긁어올 때 지금태그.다음태그"
   ]
  },
  {
   "cell_type": "code",
   "execution_count": 42,
   "metadata": {},
   "outputs": [],
   "source": [
    "title_list = []\n",
    "for article in soup.find_all('article') :\n",
    "    a = article.find('a')\n",
    "    title = a['title']\n",
    "    title_list.append(title)"
   ]
  },
  {
   "cell_type": "code",
   "execution_count": 48,
   "metadata": {},
   "outputs": [],
   "source": [
    "title_list = \\\n",
    "[article.find('a')['title'] for article in soup.find_all('article')]\n",
    "\n",
    "url_list = \\\n",
    "[article.find('a')['href'] for article in soup.find_all('article')]"
   ]
  },
  {
   "cell_type": "code",
   "execution_count": 64,
   "metadata": {},
   "outputs": [],
   "source": [
    "cardnewsdf = pd.DataFrame(zip(title_list, url_list), columns = ['title', 'url'])\n",
    "#cardnewsdf['length'] = cardnewsdf['title'].str.len()"
   ]
  },
  {
   "cell_type": "code",
   "execution_count": 98,
   "metadata": {},
   "outputs": [
    {
     "name": "stderr",
     "output_type": "stream",
     "text": [
      "100%|████████████████████████████████████████████████████████████████████████████████████| 6/6 [00:07<00:00,  1.26s/it]\n"
     ]
    }
   ],
   "source": [
    "output_list = []\n",
    "for article in tqdm(soup.find_all('article')) :\n",
    "    a = article.find('a')\n",
    "    title = a['title']\n",
    "    cnurl = a['href']\n",
    "    \n",
    "    time.sleep(1)\n",
    "    cnsoup = url_to_soup(cnurl)\n",
    "    date = cnsoup.find('time')['datetime']\n",
    "    tags = ', '.join([a.text for a in cnsoup.find('span', {'class':'tags-links'}).find_all('a')])\n",
    "    output_list.append([title, cnurl, date, tags])"
   ]
  },
  {
   "cell_type": "code",
   "execution_count": 114,
   "metadata": {},
   "outputs": [],
   "source": [
    "outputdf = pd.DataFrame(output_list, columns=['title', 'url', 'date', 'tags'])\n",
    "outputdf['date'] = pd.to_datetime(outputdf['date'])\n",
    "outputdf['english_id'] = outputdf['url'].str.split('/').str[-2]"
   ]
  },
  {
   "cell_type": "code",
   "execution_count": 123,
   "metadata": {},
   "outputs": [
    {
     "data": {
      "text/plain": [
       "[('사회학', 3), ('심리학', 3), ('미디어', 1)]"
      ]
     },
     "execution_count": 123,
     "metadata": {},
     "output_type": "execute_result"
    }
   ],
   "source": [
    "Counter(', '.join(outputdf['tags']).split(', ')).most_common()"
   ]
  },
  {
   "cell_type": "code",
   "execution_count": 137,
   "metadata": {},
   "outputs": [],
   "source": [
    "date_list = [each_date.strftime('%Y%m%d') for each_date in pd.date_range('20210501', '20210505')]"
   ]
  },
  {
   "cell_type": "code",
   "execution_count": 141,
   "metadata": {},
   "outputs": [],
   "source": [
    "for each_date in date_list :\n",
    "    url = f'https://news.daum.net/ranking/popular?regDate={each_date}'"
   ]
  },
  {
   "cell_type": "code",
   "execution_count": 149,
   "metadata": {},
   "outputs": [
    {
     "name": "stdout",
     "output_type": "stream",
     "text": [
      "태영과 ㅁ은 친구다\n"
     ]
    }
   ],
   "source": [
    "myname='태영'\n",
    "friendname='ㅁ'\n",
    "\n",
    "print(f'{myname}과 {friendname}은 친구다')"
   ]
  }
 ],
 "metadata": {
  "kernelspec": {
   "display_name": "Python 3",
   "language": "python",
   "name": "python3"
  },
  "language_info": {
   "codemirror_mode": {
    "name": "ipython",
    "version": 3
   },
   "file_extension": ".py",
   "mimetype": "text/x-python",
   "name": "python",
   "nbconvert_exporter": "python",
   "pygments_lexer": "ipython3",
   "version": "3.7.0"
  }
 },
 "nbformat": 4,
 "nbformat_minor": 4
}
