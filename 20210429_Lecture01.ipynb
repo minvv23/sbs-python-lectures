{
 "cells": [
  {
   "cell_type": "markdown",
   "metadata": {},
   "source": [
    "## 2021.04.29. 1회차"
   ]
  },
  {
   "cell_type": "markdown",
   "metadata": {},
   "source": [
    "Ctrl + Enter : 그냥 Cell 실행  \n",
    "Shift + Enter : Cell 실행하고 다음 Cell로 이동  \n",
    "Altr + Enter : Cell 실행하고 다음 Cell 생성"
   ]
  },
  {
   "cell_type": "code",
   "execution_count": 62,
   "metadata": {},
   "outputs": [
    {
     "data": {
      "text/plain": [
       "str"
      ]
     },
     "execution_count": 62,
     "metadata": {},
     "output_type": "execute_result"
    }
   ],
   "source": [
    "x = 3 # x는 정수(int)\n",
    "y = '강태영' # y는 글자(str)\n",
    "z = 3.0 # z는 실수(float)\n",
    "w = True # w는 불리안(bool)\n",
    "type(y) # type : data type을 보여주는 함수"
   ]
  },
  {
   "cell_type": "code",
   "execution_count": 57,
   "metadata": {},
   "outputs": [
    {
     "data": {
      "text/plain": [
       "10777"
      ]
     },
     "execution_count": 57,
     "metadata": {},
     "output_type": "execute_result"
    }
   ],
   "source": [
    "text_number = '10000'\n",
    "real_number = int(text_number)\n",
    "real_number + 777"
   ]
  },
  {
   "cell_type": "code",
   "execution_count": 86,
   "metadata": {},
   "outputs": [
    {
     "data": {
      "text/plain": [
       "True"
      ]
     },
     "execution_count": 86,
     "metadata": {},
     "output_type": "execute_result"
    }
   ],
   "source": [
    "values = [w, 171, 27, 1995, x, 'TaeYoung', y, 27.34, False, z] #list 생성\n",
    "values[2] #세 번째, 혹은 2번째(index) 선택\n",
    "\n",
    "press_names = ['sbs', 'kbs', 'mbc']\n",
    "press_names[-3] == press_names[0]"
   ]
  },
  {
   "cell_type": "code",
   "execution_count": 1,
   "metadata": {},
   "outputs": [],
   "source": [
    "kty_info = [['name', 'TaeYoung Kang'],\n",
    "            ['age', 27], \n",
    "            ['major', ['sociology', 'poli-sci', 'management-eng']],\n",
    "            ['status','graduated']]"
   ]
  },
  {
   "cell_type": "code",
   "execution_count": 4,
   "metadata": {},
   "outputs": [
    {
     "data": {
      "text/plain": [
       "['sociology', 'poli-sci', 'management-eng']"
      ]
     },
     "execution_count": 4,
     "metadata": {},
     "output_type": "execute_result"
    }
   ],
   "source": [
    "kty_info[2][1]"
   ]
  },
  {
   "cell_type": "code",
   "execution_count": 5,
   "metadata": {},
   "outputs": [
    {
     "data": {
      "text/plain": [
       "'graduated'"
      ]
     },
     "execution_count": 5,
     "metadata": {},
     "output_type": "execute_result"
    }
   ],
   "source": [
    "kty_dict = {'name':'TaeYoung Kang',\n",
    "            'age':27,\n",
    "            'major':['sociology', 'poli-sci', 'management-eng'],\n",
    "            'status':'graduated'}\n",
    "\n",
    "# dict는 key와 value로 구성\n",
    "kty_dict['status'] #index에는 key값을 입력해서 value값을 확인"
   ]
  },
  {
   "cell_type": "code",
   "execution_count": 6,
   "metadata": {},
   "outputs": [
    {
     "data": {
      "text/plain": [
       "['sociology', 'poli-sci', 'management-eng']"
      ]
     },
     "execution_count": 6,
     "metadata": {},
     "output_type": "execute_result"
    }
   ],
   "source": [
    "kty_dict['major']"
   ]
  },
  {
   "cell_type": "code",
   "execution_count": 123,
   "metadata": {},
   "outputs": [
    {
     "data": {
      "text/plain": [
       "dict_keys(['TaeYoungKang', 'SoonJaeLee'])"
      ]
     },
     "execution_count": 123,
     "metadata": {},
     "output_type": "execute_result"
    }
   ],
   "source": [
    "people_dict = {'TaeYoungKang':{'age':27, 'major':['sociology', 'poli-sci', 'management']},\n",
    "               'SoonJaeLee':{'age':86, 'major':['philosophy']}}\n",
    "people_dict.keys()"
   ]
  },
  {
   "cell_type": "code",
   "execution_count": 124,
   "metadata": {},
   "outputs": [
    {
     "data": {
      "text/plain": [
       "dict_keys(['age', 'major'])"
      ]
     },
     "execution_count": 124,
     "metadata": {},
     "output_type": "execute_result"
    }
   ],
   "source": [
    "people_dict['SoonJaeLee'].keys()"
   ]
  },
  {
   "cell_type": "code",
   "execution_count": 125,
   "metadata": {},
   "outputs": [
    {
     "data": {
      "text/plain": [
       "['sociology', 'poli-sci', 'management']"
      ]
     },
     "execution_count": 125,
     "metadata": {},
     "output_type": "execute_result"
    }
   ],
   "source": [
    "people_dict['TaeYoungKang']['major']"
   ]
  },
  {
   "cell_type": "code",
   "execution_count": null,
   "metadata": {},
   "outputs": [],
   "source": [
    "for A in B : #B안에 있는 element들을 순서대로 A라고 부르면서 C라는 작업을 수행\n",
    "    C"
   ]
  },
  {
   "cell_type": "code",
   "execution_count": 132,
   "metadata": {},
   "outputs": [
    {
     "name": "stdout",
     "output_type": "stream",
     "text": [
      "9\n",
      "8\n",
      "10\n"
     ]
    }
   ],
   "source": [
    "for each_major in people_dict['TaeYoungKang']['major'] :\n",
    "    print(len(each_major))"
   ]
  },
  {
   "cell_type": "code",
   "execution_count": 133,
   "metadata": {},
   "outputs": [
    {
     "name": "stdout",
     "output_type": "stream",
     "text": [
      "10\n",
      "15\n",
      "20\n"
     ]
    }
   ],
   "source": [
    "for number in [2,3,4] :\n",
    "    print(number*5)"
   ]
  },
  {
   "cell_type": "code",
   "execution_count": null,
   "metadata": {},
   "outputs": [],
   "source": [
    "range(10) # range(N) : 0부터 N미만\n",
    "range(3,8) # range(N, M) : N이상 M미만"
   ]
  },
  {
   "cell_type": "code",
   "execution_count": 142,
   "metadata": {},
   "outputs": [
    {
     "name": "stdout",
     "output_type": "stream",
     "text": [
      "X\n",
      "XX\n",
      "XXX\n",
      "XXXX\n",
      "XXXXX\n"
     ]
    }
   ],
   "source": [
    "for i in range(1,6) #[1,2,3,4,5] :\n",
    "    print('X'*i)"
   ]
  },
  {
   "cell_type": "code",
   "execution_count": 152,
   "metadata": {},
   "outputs": [
    {
     "name": "stdout",
     "output_type": "stream",
     "text": [
      " XXXXX\n",
      "  XXXX\n",
      "   XXX\n",
      "    XX\n",
      "     X\n"
     ]
    }
   ],
   "source": [
    "for i in range(1,6) :\n",
    "    print(' '*(i-1), 'X'*(6-i))"
   ]
  },
  {
   "cell_type": "code",
   "execution_count": 158,
   "metadata": {},
   "outputs": [],
   "source": [
    "prices = [34000, 78000, 12000]\n",
    "\n",
    "new_prices = []\n",
    "for each_price in prices :\n",
    "    new_prices.append(each_price/10000)"
   ]
  },
  {
   "cell_type": "code",
   "execution_count": 163,
   "metadata": {},
   "outputs": [],
   "source": [
    "numbers = [2, 3, 10, 19]\n",
    "even_list = []\n",
    "odds_list = []\n",
    "\n",
    "for num in numbers :\n",
    "    if num%2==1 :\n",
    "        odds_list.append(num)\n",
    "    else :\n",
    "        even_list.append(num)"
   ]
  },
  {
   "cell_type": "code",
   "execution_count": 168,
   "metadata": {},
   "outputs": [
    {
     "name": "stdout",
     "output_type": "stream",
     "text": [
      "It is a character.\n"
     ]
    }
   ],
   "source": [
    "x = 'test'\n",
    "\n",
    "if type(x)==int :\n",
    "    print('It is a number.')\n",
    "else :\n",
    "    print('It is a character.')"
   ]
  }
 ],
 "metadata": {
  "kernelspec": {
   "display_name": "Python 3",
   "language": "python",
   "name": "python3"
  },
  "language_info": {
   "codemirror_mode": {
    "name": "ipython",
    "version": 3
   },
   "file_extension": ".py",
   "mimetype": "text/x-python",
   "name": "python",
   "nbconvert_exporter": "python",
   "pygments_lexer": "ipython3",
   "version": "3.7.0"
  }
 },
 "nbformat": 4,
 "nbformat_minor": 4
}
